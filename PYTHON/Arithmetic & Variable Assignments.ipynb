{
 "cells": [
  {
   "cell_type": "code",
   "execution_count": 1,
   "id": "7dc5fe91",
   "metadata": {},
   "outputs": [
    {
     "data": {
      "text/plain": [
       "10"
      ]
     },
     "execution_count": 1,
     "metadata": {},
     "output_type": "execute_result"
    }
   ],
   "source": [
    "# Addition\n",
    "7+3"
   ]
  },
  {
   "cell_type": "code",
   "execution_count": 2,
   "id": "76ba298e",
   "metadata": {},
   "outputs": [
    {
     "data": {
      "text/plain": [
       "3"
      ]
     },
     "execution_count": 2,
     "metadata": {},
     "output_type": "execute_result"
    }
   ],
   "source": [
    "# Subtraction\n",
    "5-2"
   ]
  },
  {
   "cell_type": "code",
   "execution_count": 3,
   "id": "d956bfbd",
   "metadata": {},
   "outputs": [
    {
     "data": {
      "text/plain": [
       "12"
      ]
     },
     "execution_count": 3,
     "metadata": {},
     "output_type": "execute_result"
    }
   ],
   "source": [
    "# Multiplication\n",
    "3*4"
   ]
  },
  {
   "cell_type": "code",
   "execution_count": 4,
   "id": "b0edac28",
   "metadata": {},
   "outputs": [
    {
     "data": {
      "text/plain": [
       "3.0"
      ]
     },
     "execution_count": 4,
     "metadata": {},
     "output_type": "execute_result"
    }
   ],
   "source": [
    "# Division\n",
    "9/3"
   ]
  },
  {
   "cell_type": "code",
   "execution_count": 5,
   "id": "b6652b40",
   "metadata": {},
   "outputs": [
    {
     "data": {
      "text/plain": [
       "2"
      ]
     },
     "execution_count": 5,
     "metadata": {},
     "output_type": "execute_result"
    }
   ],
   "source": [
    "# Floor Division\n",
    "7//3"
   ]
  },
  {
   "cell_type": "code",
   "execution_count": 9,
   "id": "64691af5",
   "metadata": {},
   "outputs": [
    {
     "data": {
      "text/plain": [
       "2"
      ]
     },
     "execution_count": 9,
     "metadata": {},
     "output_type": "execute_result"
    }
   ],
   "source": [
    "# Modulus\n",
    "8%3"
   ]
  },
  {
   "cell_type": "code",
   "execution_count": 11,
   "id": "f448bbde",
   "metadata": {},
   "outputs": [
    {
     "data": {
      "text/plain": [
       "125"
      ]
     },
     "execution_count": 11,
     "metadata": {},
     "output_type": "execute_result"
    }
   ],
   "source": [
    "# Powers\n",
    "5**3"
   ]
  },
  {
   "cell_type": "code",
   "execution_count": 12,
   "id": "c3723b9b",
   "metadata": {},
   "outputs": [
    {
     "data": {
      "text/plain": [
       "4.0"
      ]
     },
     "execution_count": 12,
     "metadata": {},
     "output_type": "execute_result"
    }
   ],
   "source": [
    "# Can also do roots this way\n",
    "16**0.5"
   ]
  },
  {
   "cell_type": "code",
   "execution_count": 13,
   "id": "7b0f7648",
   "metadata": {},
   "outputs": [
    {
     "data": {
      "text/plain": [
       "61"
      ]
     },
     "execution_count": 13,
     "metadata": {},
     "output_type": "execute_result"
    }
   ],
   "source": [
    "# Order of operations followed in python\n",
    "3 + 13 * 4 + 6"
   ]
  },
  {
   "cell_type": "code",
   "execution_count": 14,
   "id": "1bda3ba5",
   "metadata": {},
   "outputs": [
    {
     "data": {
      "text/plain": [
       "120"
      ]
     },
     "execution_count": 14,
     "metadata": {},
     "output_type": "execute_result"
    }
   ],
   "source": [
    "# Can use parentheses to specify orders\n",
    "(5 + 10) * (2 + 6)"
   ]
  },
  {
   "cell_type": "code",
   "execution_count": null,
   "id": "755cd13d",
   "metadata": {},
   "outputs": [],
   "source": [
    "# Variable Assignment"
   ]
  },
  {
   "cell_type": "code",
   "execution_count": 20,
   "id": "a5af3e16",
   "metadata": {},
   "outputs": [],
   "source": [
    "# Lets create a object called \"j\" and assign it a number 10\n",
    "j = 10"
   ]
  },
  {
   "cell_type": "code",
   "execution_count": 22,
   "id": "f35bcb21",
   "metadata": {},
   "outputs": [
    {
     "data": {
      "text/plain": [
       "20"
      ]
     },
     "execution_count": 22,
     "metadata": {},
     "output_type": "execute_result"
    }
   ],
   "source": [
    "# Adding the objects\n",
    "j+j"
   ]
  },
  {
   "cell_type": "code",
   "execution_count": 23,
   "id": "c9ecc029",
   "metadata": {},
   "outputs": [],
   "source": [
    "# Reassignment\n",
    "j = 20"
   ]
  },
  {
   "cell_type": "code",
   "execution_count": 24,
   "id": "4e916543",
   "metadata": {},
   "outputs": [
    {
     "data": {
      "text/plain": [
       "20"
      ]
     },
     "execution_count": 24,
     "metadata": {},
     "output_type": "execute_result"
    }
   ],
   "source": [
    "#check \n",
    "j"
   ]
  },
  {
   "cell_type": "code",
   "execution_count": 25,
   "id": "f8e6513e",
   "metadata": {},
   "outputs": [],
   "source": [
    "# use J to redefine J\n",
    "j = j + j"
   ]
  },
  {
   "cell_type": "code",
   "execution_count": 26,
   "id": "8e29b3f6",
   "metadata": {},
   "outputs": [
    {
     "data": {
      "text/plain": [
       "40"
      ]
     },
     "execution_count": 26,
     "metadata": {},
     "output_type": "execute_result"
    }
   ],
   "source": [
    "# check\n",
    "j"
   ]
  },
  {
   "cell_type": "code",
   "execution_count": 27,
   "id": "9ccd3e48",
   "metadata": {},
   "outputs": [],
   "source": [
    "# use object names to keep better track of whats going on in your code!\n",
    "my_pocketmoney = 300\n",
    "\n",
    "both_parents = 2\n",
    "\n",
    "total_money = my_pocketmoney*both_parents"
   ]
  },
  {
   "cell_type": "code",
   "execution_count": 28,
   "id": "36fb5663",
   "metadata": {},
   "outputs": [
    {
     "data": {
      "text/plain": [
       "600"
      ]
     },
     "execution_count": 28,
     "metadata": {},
     "output_type": "execute_result"
    }
   ],
   "source": [
    "# show total money!\n",
    "total_money"
   ]
  },
  {
   "cell_type": "code",
   "execution_count": null,
   "id": "654c5ef1",
   "metadata": {},
   "outputs": [],
   "source": []
  }
 ],
 "metadata": {
  "kernelspec": {
   "display_name": "Python 3 (ipykernel)",
   "language": "python",
   "name": "python3"
  },
  "language_info": {
   "codemirror_mode": {
    "name": "ipython",
    "version": 3
   },
   "file_extension": ".py",
   "mimetype": "text/x-python",
   "name": "python",
   "nbconvert_exporter": "python",
   "pygments_lexer": "ipython3",
   "version": "3.9.7"
  }
 },
 "nbformat": 4,
 "nbformat_minor": 5
}
